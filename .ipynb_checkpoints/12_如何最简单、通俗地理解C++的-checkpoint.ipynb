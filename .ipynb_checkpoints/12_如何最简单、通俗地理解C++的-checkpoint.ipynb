{
 "cells": [
  {
   "cell_type": "markdown",
   "metadata": {},
   "source": [
    "# C++的程序流程结构"
   ]
  },
  {
   "cell_type": "markdown",
   "metadata": {},
   "source": [
    "# 1. 程序流程结构"
   ]
  },
  {
   "cell_type": "markdown",
   "metadata": {},
   "source": [
    "① C/C++支持最基本的三种程序运行结构：顺序结构、选择结构、循环结构\n",
    "\n",
    "1. 顺序结构：程序按顺序执行，不发生跳转\n",
    "2. 选择结构：依据条件是否满足，有选择的执行相应功能\n",
    "3. 循环结构：依据条件是否满足，循环多次执行某段代码"
   ]
  },
  {
   "cell_type": "markdown",
   "metadata": {},
   "source": [
    "# 2. 选择结构"
   ]
  },
  {
   "cell_type": "markdown",
   "metadata": {},
   "source": [
    "## 2.1 单行 if 语句"
   ]
  },
  {
   "cell_type": "markdown",
   "metadata": {},
   "source": [
    "① 单行if语句，格式：if(条件){条件满足执行的语句}"
   ]
  },
  {
   "cell_type": "code",
   "execution_count": null,
   "metadata": {},
   "outputs": [],
   "source": [
    "#include <iostream>\n",
    "using namespace std;\n",
    "\n",
    "int main()\n",
    "{\n",
    "\n",
    "    // 选择结构 单行if语句\n",
    "    // 用户输入分数，如果分数大于600，视为考上一本大学，在屏幕上输出\n",
    "\n",
    "    //1、用户输入分数\n",
    "    int score = 0;\n",
    "\n",
    "    cout << \"请输入一个分数：\" << endl;  //在C++中除了0，都为真\n",
    "    cin >> score;\n",
    "\n",
    "    //2、打印用户输入的分数\n",
    "\n",
    "    cout << \"您输入的分数为 ：\" << score << endl;\n",
    "\n",
    "    //3、判断分数是否大于600，如果大于，那么输出\n",
    "    //注意事项，if条件后面不要加分号。加了分号条件不管满足还是不满足，后面的都会运行\n",
    "    if (score > 600)\n",
    "    {\n",
    "        cout << \"恭喜您考上了一本大学\" << endl;\n",
    "    }\n",
    "\n",
    "    system(\"pause\");\n",
    "\n",
    "    return 0;\n",
    "\n",
    "}"
   ]
  },
  {
   "cell_type": "markdown",
   "metadata": {},
   "source": [
    "运行结果：  \n",
    "请输入一个分数：  \n",
    "611  \n",
    "您输入的分数为 ：611  \n",
    "恭喜您考上了一本大学  \n",
    "请按任意键继续. . ."
   ]
  },
  {
   "cell_type": "markdown",
   "metadata": {},
   "source": [
    "## 2.2 单行 else 语句"
   ]
  },
  {
   "cell_type": "markdown",
   "metadata": {},
   "source": [
    "① 单行else语句，格式：if(条件){条件满足执行的语句} else{条件不满足执行的语句}"
   ]
  },
  {
   "cell_type": "code",
   "execution_count": null,
   "metadata": {},
   "outputs": [],
   "source": [
    "#include <iostream>\n",
    "using namespace std;\n",
    "\n",
    "int main()\n",
    "{\n",
    "\n",
    "    // 选择结构 多行if语句\n",
    "    // 输入考试分数，如果分数大于600，视为考上一本大学，在屏幕上输出\n",
    "    // 如果没考上一本大学，打印未考上一本大学\n",
    "\n",
    "    //1、输入考试分数\n",
    "    int score = 0;\n",
    "    cout << \"请输入一个考试分数\" << endl;\n",
    "    cin >> score;\n",
    "\n",
    "    //2、提示用户输入的分数\n",
    "    cout << \"您输入的分数为：\" << score << endl;\n",
    "\n",
    "    //3、判断 如果大于600，打印考上一本，否则打印未考上一本大学\n",
    "    if (score > 600) //大于600分，执行下面大括号中内容\n",
    "    {\n",
    "        cout << \"恭喜您考上了一本大学\" << endl;\n",
    "    }\n",
    "    else //不大于600分，执行else后大括号中内容\n",
    "    {\n",
    "        cout << \"未考上一本大学\" << endl;\n",
    "    }\n",
    "\n",
    "    system(\"pause\");\n",
    "\n",
    "    return 0;\n",
    "\n",
    "}"
   ]
  },
  {
   "cell_type": "markdown",
   "metadata": {},
   "source": [
    "运行结果：  \n",
    "请输入一个考试分数  \n",
    "490  \n",
    "您输入的分数为：490  \n",
    "未考上一本大学  \n",
    "请按任意键继续. . ."
   ]
  },
  {
   "cell_type": "markdown",
   "metadata": {},
   "source": [
    "## 2.3 多条件的 if 语句"
   ]
  },
  {
   "cell_type": "markdown",
   "metadata": {},
   "source": [
    "① 多条件的if语句，格式：if(条件1){条件1满足执行的语句}else if(条件){条件2满足执行的语句}....else{都不满足时执行的语句}"
   ]
  },
  {
   "cell_type": "code",
   "execution_count": null,
   "metadata": {},
   "outputs": [],
   "source": [
    "#include <iostream>\n",
    "using namespace std;\n",
    "\n",
    "int main()\n",
    "{\n",
    "\n",
    "    // 选择结构 多条件if语句\n",
    "    // 输入一个考试分数，\n",
    "    // 如果分数大于600，视为考上一本大学，在屏幕上输出\n",
    "    // 如果分数大于500，视为考上二本大学，在屏幕上输出\n",
    "    // 如果分数大于400，视为考上三本大学，在屏幕上输出\n",
    "    // 如果小于等于400，视为未考上本科，屏幕上输出\n",
    "\n",
    "    //1、输入考试分数\n",
    "    int score = 0;\n",
    "    cout << \"请输入一个考试分数\" << endl;\n",
    "    cin >> score;\n",
    "\n",
    "    //2、提示用户输入的分数\n",
    "    cout << \"您输入的分数为：\" << score << endl;\n",
    "\n",
    "    //3、判断 \n",
    "    // 如果大于600，考上一本\n",
    "    // 如果大于500，考上二本\n",
    "    // 如果大于400，考上三本\n",
    "    // 如果小于等于400，未考上本科\n",
    "    if (score > 600) \n",
    "    {\n",
    "        cout << \"恭喜您考上了一本大学\" << endl;\n",
    "    }\n",
    "    else if (score > 500) \n",
    "    {\n",
    "        cout << \"恭喜您考上了二本大学\" << endl;\n",
    "    }\n",
    "    else if (score > 400) \n",
    "    {\n",
    "        cout << \"恭喜您考上了三本大学\" << endl;\n",
    "    }\n",
    "    else \n",
    "    {\n",
    "        cout << \"未考上本科大学\" << endl;\n",
    "    }\n",
    "\n",
    "    system(\"pause\");\n",
    "\n",
    "    return 0;\n",
    "\n",
    "}"
   ]
  },
  {
   "cell_type": "markdown",
   "metadata": {},
   "source": [
    "运行结果：  \n",
    "请输入一个考试分数  \n",
    "430  \n",
    "您输入的分数为：430  \n",
    "恭喜您考上了三本大学  \n",
    "请按任意键继续. . ."
   ]
  },
  {
   "cell_type": "markdown",
   "metadata": {},
   "source": [
    "## 2.4 嵌套 if 语句"
   ]
  },
  {
   "cell_type": "markdown",
   "metadata": {},
   "source": [
    "① 嵌套if语句，在if语句中可以嵌套使用if语句，达到更精确的条件判断。"
   ]
  },
  {
   "cell_type": "code",
   "execution_count": null,
   "metadata": {},
   "outputs": [],
   "source": [
    "#include <iostream>\n",
    "using namespace std;\n",
    "\n",
    "int main()\n",
    "{\n",
    "\n",
    "    // 选择结构 嵌套if语句\n",
    "\n",
    "    //1、提示高考分数\n",
    "    int score = 0;\n",
    "    cout << \"请输入一个考试分数\" << endl;\n",
    "    cin >> score;\n",
    "\n",
    "    //2、提示用户输入的分数\n",
    "    cout << \"您输入的分数为：\" << score << endl;\n",
    "\n",
    "    //3、判断 \n",
    "    if (score > 600) \n",
    "    {\n",
    "        cout << \"恭喜您考上了一本大学\" << endl;\n",
    "        if (score > 700)\n",
    "        {\n",
    "            cout << \"您能考上了北京大学\" << endl;\n",
    "        }\n",
    "        else if (score > 650)\n",
    "        {\n",
    "            cout << \"您能考上了清华大学\" << endl;\n",
    "        }\n",
    "        else\n",
    "        {\n",
    "            cout << \"您能考上了人名大学\" << endl;\n",
    "        }\n",
    "    }\n",
    "    else if (score > 500)\n",
    "    {\n",
    "        cout << \"恭喜您考上了二本大学\" << endl;\n",
    "    }\n",
    "    else if (score > 400)\n",
    "    {\n",
    "        cout << \"恭喜您考上了三本大学\" << endl;\n",
    "    }\n",
    "    else\n",
    "    {\n",
    "        cout << \"未考上本科大学\" << endl;\n",
    "    }\n",
    "\n",
    "    system(\"pause\");\n",
    "\n",
    "    return 0;\n",
    "\n",
    "}"
   ]
  },
  {
   "cell_type": "markdown",
   "metadata": {},
   "source": [
    "运行结果：  \n",
    "请输入一个考试分数  \n",
    "670  \n",
    "您输入的分数为：670  \n",
    "恭喜您考上了一本大学  \n",
    "您能考上了清华大学  \n",
    "请按任意键继续. . ."
   ]
  },
  {
   "cell_type": "markdown",
   "metadata": {},
   "source": [
    "## 2.5 三目运算符"
   ]
  },
  {
   "cell_type": "markdown",
   "metadata": {},
   "source": [
    "① 作用：通过三目运算符实现简单的判断。\n",
    "\n",
    "② 语法：表达式1 ? 表达式2 : 表达式3\n",
    "\n",
    "1. 如果表达式1的值为真，执行表达式2，并返回表达式2的结果。\n",
    "2. 如果表达式1的值为假，执行表达式3，并返回表达式3的结果。\n",
    "\n",
    "③ 三目运算符可以用在显示语句中，cout << \"c = \" << c == 1 ? \"男\" : \"女\" << endl。"
   ]
  },
  {
   "cell_type": "code",
   "execution_count": null,
   "metadata": {},
   "outputs": [],
   "source": [
    "#include <iostream>\n",
    "using namespace std;\n",
    "\n",
    "int main()\n",
    "{\n",
    "    // 创建三个变量 a b c\n",
    "    // 将a和b做比较，将变量大的值赋值给变量c\n",
    "\n",
    "    int a = 10;\n",
    "    int b = 20;\n",
    "    int c = 0;\n",
    "\n",
    "    c = (a > b ? a : b); //可以将运算的结果的变量的值赋值给变量\n",
    "\n",
    "    cout << \"c = \" << c << endl;\n",
    "\n",
    "    //在C++中三目运算符返回的是变量，可以继续赋值\n",
    "    (a > b ? a : b) = 100;\n",
    "    cout << \"a = \" << a << endl;  //可以将运算的结果右值作为变量来赋值\n",
    "    cout << \"b = \" << b << endl;\n",
    "\n",
    "    system(\"pause\");\n",
    "\n",
    "    return 0;\n",
    "\n",
    "}"
   ]
  },
  {
   "cell_type": "markdown",
   "metadata": {},
   "source": [
    "运行结果：  \n",
    "c = 20  \n",
    "a = 10  \n",
    "b = 100  \n",
    "请按任意键继续. . ."
   ]
  },
  {
   "cell_type": "markdown",
   "metadata": {},
   "source": [
    "## 2.6 switch语句"
   ]
  },
  {
   "cell_type": "markdown",
   "metadata": {},
   "source": [
    "① switch语句用于执行多条件分支语句。\n",
    "\n",
    "② switch语句中表达式类型只能是整型或者字符型。\n",
    "\n",
    "③ case里如果没有break，那么程序会一直向下执行。\n",
    "\n",
    "④ 与if语句比，对于多条件判断时，switch的结构清晰，执行效率高，缺点是switch不可以判断区间。"
   ]
  },
  {
   "cell_type": "code",
   "execution_count": null,
   "metadata": {},
   "outputs": [],
   "source": [
    "#include <iostream>\n",
    "using namespace std;\n",
    "\n",
    "int main()\n",
    "{\n",
    "    //1、提示用户给电影评分\n",
    "    cout << \"请给电影进行评分\" << endl;\n",
    "\n",
    "    //2、用户开始进行打分\n",
    "    int score = 0;\n",
    "    cin >> score;\n",
    "    cout << \"您打的分数为：\" << score << endl;\n",
    "\n",
    "    //3、根据用户输入的分数来提示用户最后的结果\n",
    "    switch (score)\n",
    "    {\n",
    "    case 10:\n",
    "        cout << \"您认为是经典的电影\" << endl; \n",
    "        break;\n",
    "    case 9:\n",
    "        cout << \"您认为是经典的电影\" << endl;\n",
    "        break;\n",
    "    case 8:\n",
    "        cout << \"您认为电影非常好\" << endl;\n",
    "        break;\n",
    "    case 7:\n",
    "        cout << \"您认为电影还行\" << endl;\n",
    "        break;\n",
    "    case 6:\n",
    "        cout << \"您认为电影一般\" << endl;\n",
    "        break;\n",
    "    default:  //前面都不满足，就会执行default语句\n",
    "        cout << \"您认为电影是烂片\" << endl;\n",
    "        break;\n",
    "    }\n",
    "\n",
    "    //if 和 switch 区别：\n",
    "    //switch 缺点，判断的时候只能是整型或者字符型，不可以是一个区间。\n",
    "    //switch 优点，结构清晰，执行效率高。\n",
    "    system(\"pause\");\n",
    "\n",
    "    return 0;\n",
    "\n",
    "}"
   ]
  },
  {
   "cell_type": "markdown",
   "metadata": {},
   "source": [
    "运行结果：  \n",
    "请给电影进行评分  \n",
    "8  \n",
    "您打的分数为：8  \n",
    "您认为电影非常好  \n",
    "请按任意键继续. . ."
   ]
  },
  {
   "cell_type": "markdown",
   "metadata": {},
   "source": [
    "# 3. 循环结构"
   ]
  },
  {
   "cell_type": "code",
   "execution_count": null,
   "metadata": {},
   "outputs": [],
   "source": []
  }
 ],
 "metadata": {
  "kernelspec": {
   "display_name": "Python 3",
   "language": "python",
   "name": "python3"
  },
  "language_info": {
   "codemirror_mode": {
    "name": "ipython",
    "version": 3
   },
   "file_extension": ".py",
   "mimetype": "text/x-python",
   "name": "python",
   "nbconvert_exporter": "python",
   "pygments_lexer": "ipython3",
   "version": "3.8.3"
  },
  "toc": {
   "base_numbering": 1,
   "nav_menu": {},
   "number_sections": false,
   "sideBar": true,
   "skip_h1_title": false,
   "title_cell": "Table of Contents",
   "title_sidebar": "Contents",
   "toc_cell": false,
   "toc_position": {},
   "toc_section_display": true,
   "toc_window_display": true
  }
 },
 "nbformat": 4,
 "nbformat_minor": 4
}
