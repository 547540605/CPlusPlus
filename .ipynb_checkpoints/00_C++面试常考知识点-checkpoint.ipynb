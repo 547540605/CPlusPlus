{
 "cells": [
  {
   "cell_type": "markdown",
   "metadata": {},
   "source": [
    "# C++ 面试常考的知识点"
   ]
  },
  {
   "cell_type": "markdown",
   "metadata": {},
   "source": [
    "# 1. 内存分区模型"
   ]
  },
  {
   "cell_type": "markdown",
   "metadata": {},
   "source": [
    "① C++在程序执行时，将内存大方向划分为4个区域。\n",
    "\n",
    "1. 代码区：存放函数体的二进制代码，由操作系统进行管理的。\n",
    "2. 全局区：存放全局变量和静态变量以及常量。\n",
    "3. 栈区：由编译器自动分配释放，存放函数的参数值、局部变量等。\n",
    "4. 堆区：由程序员分配和释放，若程序员不释放，程序结束时由操作系统回收。\n",
    "\n",
    "② 内存四区的意义：不同区域存放的数据，赋予不同的生命周期，给我们更大的灵活编程。"
   ]
  },
  {
   "cell_type": "markdown",
   "metadata": {},
   "source": [
    "① 在程序编译后，生成了exe可执行程序，未执行该程序前分为两个区域：代码区、全局区。\n",
    "\n",
    "② 所有的写的代码(注释、变量、语句等)都会放到代码区中。\n",
    "\n",
    "③ 栈区中的数据由编译器决定数据的生成和死亡。\n",
    "\n",
    "④ 堆区中的数据由程序员决定数据的生存和死亡。"
   ]
  },
  {
   "cell_type": "markdown",
   "metadata": {},
   "source": [
    "## 1.1 代码区"
   ]
  },
  {
   "cell_type": "markdown",
   "metadata": {},
   "source": [
    "① 代码区：\n",
    "\n",
    "1. 存放CPU执行的机器指令。\n",
    "2. 代码区是共享的，共享的目的是对于频繁被执行的程序，只需要内存中有一份代码即可。\n",
    "3. 代码区是只读的，使其只读的原因是防止程序员意外地修改了它的指令。"
   ]
  },
  {
   "cell_type": "markdown",
   "metadata": {},
   "source": [
    "## 1.2 全局区"
   ]
  },
  {
   "cell_type": "markdown",
   "metadata": {},
   "source": [
    "① 全局区：\n",
    "\n",
    "1. 全局变量和静态变量存放在此，局部常量不放在全局区。\n",
    "2. 全局区还包含了常量区，字符串常量和其他常量也存放在此。\n",
    "3. 该区域的数据在程序结束后由操作系统释放。"
   ]
  },
  {
   "cell_type": "markdown",
   "metadata": {},
   "source": [
    "## 1.3 栈区"
   ]
  },
  {
   "cell_type": "markdown",
   "metadata": {},
   "source": [
    "① 栈区\n",
    "\n",
    "1. 由编译器自动分配释放，存放函数的参数值、局部变量等。\n",
    "2. 不要返回局部变量的地址，栈区开辟的数据由编译器自动释放。"
   ]
  },
  {
   "cell_type": "markdown",
   "metadata": {},
   "source": [
    "## 1.4 堆区"
   ]
  },
  {
   "cell_type": "markdown",
   "metadata": {},
   "source": [
    "① 堆区：\n",
    "\n",
    "1. 由程序员分配释放，若程序员不释放，程序结束时由操作系统回收。\n",
    "2. 在C++中主要利用new在堆区开辟内存。"
   ]
  },
  {
   "cell_type": "markdown",
   "metadata": {},
   "source": [
    "## 1.5 new操作符"
   ]
  },
  {
   "cell_type": "markdown",
   "metadata": {},
   "source": [
    "① C++中利用new操作符在堆区开辟数据。\n",
    "\n",
    "② 堆区开辟的数据，由程序员手动开辟，手动释放，释放利用操作符 delete。\n",
    "\n",
    "③ 语法：new 数据类型\n",
    "\n",
    "④ 利用new创建的数据，会返回该数据对应的类型的指针。"
   ]
  },
  {
   "cell_type": "markdown",
   "metadata": {},
   "source": [
    "# 2. 多态"
   ]
  },
  {
   "cell_type": "markdown",
   "metadata": {},
   "source": [
    "## 2.1 多态简介"
   ]
  },
  {
   "cell_type": "markdown",
   "metadata": {},
   "source": [
    "① 多态是C++面向对象三大特性之一。\n",
    "\n",
    "② 多态分为两类：\n",
    "\n",
    "1. 静态多态：函数重载和运算符重载属于静态多态，复用函数名。\n",
    "2. 动态多态：派生类和虚函数实现运行时多态。\n",
    "\n",
    "③ 静态多态和动态多态区别：\n",
    "\n",
    "1. 静态多态的函数地址早绑定，编译阶段确定函数地址。\n",
    "2. 动态多态的函数地址晚绑定，运行阶段确定函数地址。\n",
    "\n",
    "④ 多态满足条件：\n",
    "\n",
    "1. 有继承关系\n",
    "2. 子类重写父类中的虚函数\n",
    "\n",
    "④ 多态使用条件：\n",
    "\n",
    "1. 父类指针或引用指向子类对象\n",
    "\n",
    "⑤ 重写：函数返回值类型、函数名、参数列表都完全一致称为重写。"
   ]
  },
  {
   "cell_type": "markdown",
   "metadata": {},
   "source": [
    "## 2.1 纯虚函数和抽象类"
   ]
  },
  {
   "cell_type": "markdown",
   "metadata": {},
   "source": [
    "① 在多态中，通常父类中虚函数的实现时毫无意义的，主要都是调用子类重写的内容。因此，可以将虚函数改为纯虚函数。\n",
    "\n",
    "② 纯虚函数语法：virtual 返回值类型 函数名 (参数列表) = 0；\n",
    "\n",
    "③ 当类中有了纯虚函数，这个类也称为抽象类。\n",
    "\n",
    "④ 抽象类特点：\n",
    "\n",
    "1. 无法实例化对象\n",
    "2. 子类必须重写抽象类中的纯虚函数，否则也属于抽象类。"
   ]
  },
  {
   "cell_type": "markdown",
   "metadata": {},
   "source": [
    "## 2.2 虚函数和纯虚函数区别"
   ]
  },
  {
   "cell_type": "markdown",
   "metadata": {},
   "source": [
    "① 虚函数与纯虚函数，在他们的子类中都可以被重写。\n",
    "\n",
    "② 它们的区别是：\n",
    "\n",
    " - （1）纯虚函数只有定义，没有实现；而虚函数既有定义，也有实现的代码。  \n",
    "   - 纯虚函数一般没有代码实现部分，如\n",
    "      - virtual void print() = 0;\n",
    "   - 而一般虚函数必须要有代码的实现部分，否则会出现函数未定义的错误。\n",
    "      - virtual void print()\n",
    "      - {   printf(\"This is virtual function\\n\");  }\n",
    " - （2）包含纯虚函数的类不能定义其对象，而包含虚函数的则可以。"
   ]
  },
  {
   "cell_type": "markdown",
   "metadata": {},
   "source": [
    "# 3. 深拷贝和浅拷贝"
   ]
  },
  {
   "cell_type": "markdown",
   "metadata": {},
   "source": [
    "## 3.1 深拷贝和浅拷贝操作"
   ]
  },
  {
   "cell_type": "markdown",
   "metadata": {},
   "source": [
    "① 浅拷贝：简单的赋值拷贝操作。\n",
    "\n",
    "② 深拷贝：在堆区重新申请空间，进行拷贝操作。"
   ]
  },
  {
   "cell_type": "markdown",
   "metadata": {},
   "source": [
    "## 3.2 深拷贝和浅拷贝的问题"
   ]
  },
  {
   "cell_type": "markdown",
   "metadata": {},
   "source": [
    "① 浅拷贝，带来的问题就是堆区的内存重复释放（调用析构代码时）。\n",
    "\n",
    "② 深拷贝，在堆区自己创建一份内存，可以避免堆区的内存重复释放（调用析构代码时）。"
   ]
  },
  {
   "cell_type": "markdown",
   "metadata": {},
   "source": [
    "# 4. 继承"
   ]
  },
  {
   "cell_type": "markdown",
   "metadata": {},
   "source": [
    "## 4.1 继承简介"
   ]
  },
  {
   "cell_type": "markdown",
   "metadata": {},
   "source": [
    "① 继承是面向对象的三大特性之一。\n",
    "\n",
    "② 定义类时，下级别的成员除了拥有上一级的共性，还有自己的特性。这个时候，就可以考虑利用继承技术，减少重复代码。"
   ]
  },
  {
   "cell_type": "markdown",
   "metadata": {},
   "source": [
    "## 4.2 继承方式"
   ]
  },
  {
   "cell_type": "markdown",
   "metadata": {},
   "source": [
    "① 继承的语法：class 子类：继承方式 父类\n",
    "\n",
    "② 继承方式一共有三种：\n",
    "\n",
    " - 公共继承\n",
    " - 保护继承\n",
    " - 私有继承\n",
    "\n",
    "③ 不同的继承方式，父类中的变量被继承后，权限相应的得到了改变，如下图所示。"
   ]
  },
  {
   "cell_type": "markdown",
   "metadata": {},
   "source": [
    "## 4.3 继承方式对应权限"
   ]
  },
  {
   "cell_type": "markdown",
   "metadata": {},
   "source": [
    "① 不同的继承方式会影响基类成员在派生类中的访问权限。\n",
    "\n",
    "1) public继承方式\n",
    " - 基类中所有 public 成员在派生类中为 public 属性；\n",
    " - 基类中所有 protected 成员在派生类中为 protected 属性；\n",
    " - 基类中所有 private 成员在派生类中不能使用。\n",
    "\n",
    "2) protected继承方式\n",
    " - 基类中的所有 public 成员在派生类中为 protected 属性；\n",
    " - 基类中的所有 protected 成员在派生类中为 protected 属性；\n",
    " - 基类中的所有 private 成员在派生类中不能使用。\n",
    "\n",
    "3) private继承方式\n",
    " - 基类中的所有 public 成员在派生类中均为 private 属性；\n",
    " - 基类中的所有 protected 成员在派生类中均为 private 属性；\n",
    " - 基类中的所有 private 成员在派生类中不能使用。"
   ]
  },
  {
   "cell_type": "markdown",
   "metadata": {},
   "source": [
    "# C 面试常考的知识点"
   ]
  },
  {
   "cell_type": "markdown",
   "metadata": {},
   "source": [
    "# 1. 指针函数与函数指针"
   ]
  },
  {
   "cell_type": "markdown",
   "metadata": {},
   "source": [
    "## 1.1 指针函数与函数指针"
   ]
  },
  {
   "cell_type": "markdown",
   "metadata": {},
   "source": [
    "① 指针函数，简单的来说，就是一个返回指针的函数，其本质是一个函数，而该函数的返回值是一个指针。\n",
    " - 声明格式为：* 类型标识符 函数名(参数表)\n",
    " - 指针函数与函数的唯一区别在于：函数名前面多了一个 * 号，而这个函数就是一个指针函数。\n",
    " - int * fun(int x,int y); # 其返回值是一个 int 类型的指针，是一个地址。\n",
    "\n",
    "② 函数指针，其本质是一个指针变量，该指针指向这个函数。\n",
    " - 总结来说，函数指针就是指向函数的指针。\n",
    " - 声明格式：类型说明符 (* 函数名) (参数)\n",
    " - int ( * fun)(int x,int y);\n",
    " - x = ( * fun)();  # 指明这是通过指针的方式来调用函数"
   ]
  }
 ],
 "metadata": {
  "kernelspec": {
   "display_name": "Python 3",
   "language": "python",
   "name": "python3"
  },
  "language_info": {
   "codemirror_mode": {
    "name": "ipython",
    "version": 3
   },
   "file_extension": ".py",
   "mimetype": "text/x-python",
   "name": "python",
   "nbconvert_exporter": "python",
   "pygments_lexer": "ipython3",
   "version": "3.8.3"
  },
  "toc": {
   "base_numbering": 1,
   "nav_menu": {},
   "number_sections": false,
   "sideBar": true,
   "skip_h1_title": false,
   "title_cell": "Table of Contents",
   "title_sidebar": "Contents",
   "toc_cell": false,
   "toc_position": {},
   "toc_section_display": true,
   "toc_window_display": true
  }
 },
 "nbformat": 4,
 "nbformat_minor": 4
}
